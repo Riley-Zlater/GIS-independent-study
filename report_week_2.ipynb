{
 "cells": [
  {
   "cell_type": "markdown",
   "id": "b86376e3",
   "metadata": {},
   "source": [
    "# Geographic Data Science with Python - Report 2\n",
    "\n",
    "---\n",
    "\n",
    "## Section 1: Summary of Readings\n",
    "### 1. Raster Data \n",
    "- Grid of values rendered on a map as pixels.\n",
    "- Pixel values are representative of an area on the Earth's surface.\n",
    "- Area is defined by the spatial resolution of the raster.\n",
    "- Composed of one or more layers.\n",
    "\n",
    "### 2. Raster Data Formats\n",
    "#### Single File Types\n",
    "- **.tif/.tiff**: Tagged Image Format. Very common. Used by some satellites.\n",
    "- **.asc**: ASCII Raster Files. Text based format. Simple to store and distribute\n",
    "\n",
    "#### Hierarchical Data Formats\n",
    "- **.hdf/.hdf5**: Hierarchical Data Format. Very common. Used by some satellites.\n",
    "- **.nc (NetCDF)**: Network Common Data Form. Common for climate data."
   ]
  },
  {
   "cell_type": "code",
   "execution_count": 1,
   "id": "48fd704a",
   "metadata": {},
   "outputs": [
    {
     "name": "stdout",
     "output_type": "stream",
     "text": [
      "Downloading from https://ndownloader.figshare.com/files/16371473\n",
      "Extracted output to C:\\Users\\riley\\earth-analytics\\data\\colorado-flood\\.\n"
     ]
    }
   ],
   "source": [
    "# Import necessary packages\n",
    "import os\n",
    "\n",
    "import matplotlib.pyplot as plt\n",
    "import numpy as np\n",
    "import geopandas as gpd\n",
    "import rioxarray as rxr\n",
    "\n",
    "# Earthpy is an earthlab package to work with spatial data\n",
    "import earthpy as et\n",
    "import earthpy.plot as ep\n",
    "\n",
    "# Get data and set working directory\n",
    "et.data.get_data(\"colorado-flood\")\n",
    "os.chdir(os.path.join(et.io.HOME, 'earth-analytics', 'data'))\n"
   ]
  },
  {
   "cell_type": "code",
   "execution_count": 7,
   "id": "d7fe7732",
   "metadata": {},
   "outputs": [],
   "source": [
    "# Path to the lidar DEM raster\n",
    "lidar_dem_path = os.path.join(et.io.HOME, 'earth-analytics', 'data', 'colorado-flood', 'spatial', 'boulder-leehill-rd', 'pre-flood', 'lidar', 'pre_DTM.tif')\n",
    "\n",
    "# Read the data in and call it lidar_dtm\n",
    "lidar_dtm = rxr.open_rasterio(lidar_dem_path, masked=True)"
   ]
  }
 ],
 "metadata": {
  "kernelspec": {
   "display_name": ".venv",
   "language": "python",
   "name": "python3"
  },
  "language_info": {
   "codemirror_mode": {
    "name": "ipython",
    "version": 3
   },
   "file_extension": ".py",
   "mimetype": "text/x-python",
   "name": "python",
   "nbconvert_exporter": "python",
   "pygments_lexer": "ipython3",
   "version": "3.9.0"
  }
 },
 "nbformat": 4,
 "nbformat_minor": 5
}
